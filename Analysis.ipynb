{
 "cells": [
  {
   "cell_type": "code",
   "execution_count": 1,
   "metadata": {},
   "outputs": [
    {
     "name": "stderr",
     "output_type": "stream",
     "text": [
      "/home/tamim/anaconda3/lib/python3.5/site-packages/gensim/utils.py:1015: UserWarning: Pattern library is not installed, lemmatization won't be available.\n",
      "  warnings.warn(\"Pattern library is not installed, lemmatization won't be available.\")\n"
     ]
    }
   ],
   "source": [
    "import pickle as cp\n",
    "import pandas as pd\n",
    "import gensim\n",
    "import logging\n",
    "import random\n",
    "import numpy as np\n",
    "import json \n",
    "import re\n",
    "import os.path\n",
    "import matplotlib.pyplot as plt\n"
   ]
  },
  {
   "cell_type": "code",
   "execution_count": 2,
   "metadata": {},
   "outputs": [],
   "source": [
    "alltxt = cp.load(open('sachalCorpus.pkl','rb'))\n"
   ]
  },
  {
   "cell_type": "code",
   "execution_count": 3,
   "metadata": {},
   "outputs": [],
   "source": [
    "import string\n",
    "transtable = str.maketrans(' ', ' ', string.punctuation)\n",
    "sentences = []"
   ]
  },
  {
   "cell_type": "code",
   "execution_count": 4,
   "metadata": {
    "collapsed": true
   },
   "outputs": [],
   "source": [
    "if(not os.path.isfile('gensimWordVec')): \n",
    "    for txt in alltxt:\n",
    "        curSentences = txt.split('।')\n",
    "        for sentence in curSentences:\n",
    "            if(len(sentence.strip()) != 0):\n",
    "                sentences.append(sentence.split())"
   ]
  },
  {
   "cell_type": "code",
   "execution_count": 5,
   "metadata": {},
   "outputs": [],
   "source": [
    "def readComments(f_name):\n",
    "    if(os.path.isfile('gensimWordVec')):\n",
    "        return []\n",
    "    comments = []\n",
    "    f_in = open(f_name)\n",
    "    while True:\n",
    "        s = f_in.readline()\n",
    "        if s == '':\n",
    "            break\n",
    "        else:\n",
    "            comments.append(s.strip().split())\n",
    "    return comments"
   ]
  },
  {
   "cell_type": "code",
   "execution_count": 6,
   "metadata": {},
   "outputs": [],
   "source": [
    "sentences += readComments('cleanedCommentsProthomAlo.txt')\n",
    "sentences += readComments('cleanedCommentsSachal.txt')"
   ]
  },
  {
   "cell_type": "markdown",
   "metadata": {},
   "source": [
    "# We collect sentences from prothom-alo articles too here"
   ]
  },
  {
   "cell_type": "code",
   "execution_count": 7,
   "metadata": {
    "collapsed": true
   },
   "outputs": [],
   "source": [
    "def parseProthomAloArticles():\n",
    "    if(os.path.isfile('gensimWordVec')):\n",
    "        return []\n",
    "    f_in = open('scraped_prothomAloArticles.json')\n",
    "    sentences = []\n",
    "    while True:\n",
    "        s = f_in.readline()\n",
    "        if s == '':\n",
    "            break\n",
    "        else:\n",
    "            sJson = json.loads(s)\n",
    "            curSentences = sJson['article'].split('।')\n",
    "            for sentence in curSentences:\n",
    "                sentences.append(sentence.split())\n",
    "    return sentences\n",
    "            \n",
    "    \n",
    "    "
   ]
  },
  {
   "cell_type": "code",
   "execution_count": 8,
   "metadata": {},
   "outputs": [],
   "source": [
    "sentences += parseProthomAloArticles()"
   ]
  },
  {
   "cell_type": "code",
   "execution_count": 10,
   "metadata": {},
   "outputs": [
    {
     "name": "stdout",
     "output_type": "stream",
     "text": [
      "No of tokens,  33081794\n"
     ]
    }
   ],
   "source": [
    "tokens = 0\n",
    "for s in sentences:\n",
    "    tokens+=len(s)\n",
    "    \n",
    "print(\"No of tokens, \",tokens)"
   ]
  },
  {
   "cell_type": "code",
   "execution_count": 11,
   "metadata": {
    "collapsed": true
   },
   "outputs": [],
   "source": [
    "vectorLen = 100"
   ]
  },
  {
   "cell_type": "code",
   "execution_count": 12,
   "metadata": {
    "collapsed": true
   },
   "outputs": [],
   "source": [
    "def genWordModel():\n",
    "    if(os.path.isfile('gensimWordVec')):\n",
    "        return gensim.models.Word2Vec.load('gensimWordVec')\n",
    "    else:\n",
    "        wordModel = gensim.models.Word2Vec(sentences=sentences, size=vectorLen, min_count=1, window= 4, workers=4)\n",
    "        wordModel.save('gensimWordVec')\n",
    "        return wordModel"
   ]
  },
  {
   "cell_type": "code",
   "execution_count": 13,
   "metadata": {},
   "outputs": [],
   "source": [
    "wordModel = genWordModel()"
   ]
  },
  {
   "cell_type": "code",
   "execution_count": 14,
   "metadata": {
    "scrolled": false
   },
   "outputs": [
    {
     "data": {
      "text/plain": [
       "[('নারী', 0.7931123971939087),\n",
       " ('পুরুষ,', 0.7262457609176636),\n",
       " ('নারী,', 0.7107799053192139),\n",
       " ('পুরুষের', 0.6979084014892578),\n",
       " ('পুরুষকে', 0.6611655950546265),\n",
       " ('এ’রম', 0.6459627151489258),\n",
       " ('পান্থজন', 0.6451367735862732),\n",
       " ('নারী-পুরুষ', 0.6440507173538208),\n",
       " ('শিশু,', 0.6433746814727783),\n",
       " ('শিশুসহ', 0.6379339694976807)]"
      ]
     },
     "execution_count": 14,
     "metadata": {},
     "output_type": "execute_result"
    }
   ],
   "source": [
    "wordModel.most_similar('পুরুষ')"
   ]
  },
  {
   "cell_type": "code",
   "execution_count": 15,
   "metadata": {},
   "outputs": [
    {
     "data": {
      "text/plain": [
       "[('খেলাটা', 0.7662200927734375),\n",
       " ('ফুটবল', 0.7113726139068604),\n",
       " ('ম্যাচ', 0.7075428366661072),\n",
       " ('খেলাই', 0.7022793292999268),\n",
       " ('খেলাও', 0.6957393884658813),\n",
       " ('ম্যাচটি', 0.6593891382217407),\n",
       " ('ক্রিকেট', 0.6467001438140869),\n",
       " ('তাস', 0.6449255347251892),\n",
       " ('বিশ্বকাপ', 0.644912838935852),\n",
       " ('তামাশা', 0.633206844329834)]"
      ]
     },
     "execution_count": 15,
     "metadata": {},
     "output_type": "execute_result"
    }
   ],
   "source": [
    "wordModel.most_similar('খেলা')"
   ]
  },
  {
   "cell_type": "code",
   "execution_count": 16,
   "metadata": {},
   "outputs": [
    {
     "data": {
      "text/plain": [
       "[('চমৎকার', 0.7970105409622192),\n",
       " ('সুন্দর,', 0.7072076201438904),\n",
       " ('অসাধারন', 0.6761439442634583),\n",
       " ('চমতকার', 0.655440628528595),\n",
       " ('অসাধারণ', 0.6530945897102356),\n",
       " ('গোছানো', 0.647397518157959),\n",
       " ('সুন্দর!', 0.6361888647079468),\n",
       " ('অপূর্ব', 0.630119800567627),\n",
       " ('অদ্ভুত', 0.6280200481414795),\n",
       " ('চমত্কার', 0.6265210509300232)]"
      ]
     },
     "execution_count": 16,
     "metadata": {},
     "output_type": "execute_result"
    }
   ],
   "source": [
    "wordModel.most_similar('সুন্দর')"
   ]
  },
  {
   "cell_type": "code",
   "execution_count": 17,
   "metadata": {
    "scrolled": true
   },
   "outputs": [
    {
     "data": {
      "text/plain": [
       "[('ভাল', 0.7988693714141846),\n",
       " ('ভালো', 0.7923136949539185),\n",
       " ('ভালো', 0.7509987354278564),\n",
       " ('মন্দ', 0.6510046124458313),\n",
       " ('খারাপই', 0.6492986083030701),\n",
       " ('খ্রাপ', 0.6488841772079468),\n",
       " ('খারপ', 0.647308886051178),\n",
       " ('খারাপ,', 0.6404173374176025),\n",
       " ('বাজে', 0.6337137818336487),\n",
       " ('বোরিং', 0.6142040491104126)]"
      ]
     },
     "execution_count": 17,
     "metadata": {},
     "output_type": "execute_result"
    }
   ],
   "source": [
    "wordModel.most_similar('খারাপ')"
   ]
  },
  {
   "cell_type": "code",
   "execution_count": 18,
   "metadata": {},
   "outputs": [
    {
     "data": {
      "text/plain": [
       "'মানুষ'"
      ]
     },
     "execution_count": 18,
     "metadata": {},
     "output_type": "execute_result"
    }
   ],
   "source": [
    "wordModel.doesnt_match(\"মানুষ গরু ছাগল মহিষ\".split())"
   ]
  },
  {
   "cell_type": "code",
   "execution_count": 19,
   "metadata": {},
   "outputs": [
    {
     "data": {
      "text/plain": [
       "'ব্রাজিল'"
      ]
     },
     "execution_count": 19,
     "metadata": {},
     "output_type": "execute_result"
    }
   ],
   "source": [
    "wordModel.doesnt_match(\"বাংলাদেশ ভারত পাকিস্তান ব্রাজিল\".split())"
   ]
  },
  {
   "cell_type": "code",
   "execution_count": 20,
   "metadata": {},
   "outputs": [
    {
     "data": {
      "text/plain": [
       "[('সরকারব্যবস্থা', 0.8121378421783447),\n",
       " ('সরকারকে', 0.8089427947998047),\n",
       " ('সরকারও', 0.7917607426643372),\n",
       " ('সরকারের', 0.7752299904823303),\n",
       " ('সেনাবাহিনী', 0.7590380907058716),\n",
       " ('প্রশাসন', 0.754774808883667),\n",
       " ('সরকারই', 0.7500436305999756),\n",
       " ('কমিশন', 0.7457376718521118),\n",
       " ('বিএনপি', 0.7270811796188354),\n",
       " ('সরকারব্যবস্থার', 0.7249953150749207)]"
      ]
     },
     "execution_count": 20,
     "metadata": {},
     "output_type": "execute_result"
    }
   ],
   "source": [
    "wordModel.most_similar('সরকার')"
   ]
  },
  {
   "cell_type": "code",
   "execution_count": 21,
   "metadata": {
    "collapsed": true
   },
   "outputs": [],
   "source": [
    "df = pd.read_csv('AnnotatedComments.csv')"
   ]
  },
  {
   "cell_type": "code",
   "execution_count": 22,
   "metadata": {},
   "outputs": [],
   "source": [
    "def findMaxOccur(id,df):\n",
    "    cntDict = {'positive':0,'negative':0,'neutral':0,'ambiguous':0}\n",
    "    n_row = {'id':id}\n",
    "    for index,row in df.iterrows():\n",
    "        cntDict[row['annotation']]+=1\n",
    "        n_row['comment'] = row['comment']\n",
    "        \n",
    "    if cntDict['positive']>=1:\n",
    "        n_row['annotation'] = 'positive'\n",
    "    elif cntDict['negative']>=1:\n",
    "        n_row['annotation'] = 'negative'\n",
    "    else:\n",
    "        n_row = None\n",
    "    return n_row\n",
    "    \n",
    "    \n",
    "    \n",
    "\n",
    "def mergeDuplicates(original_df):\n",
    "    grouped = original_df.groupby('id')\n",
    "    mergedDf = pd.DataFrame(columns=['comment','annotation'])\n",
    "    cnt = 0\n",
    "    for id,df in grouped:\n",
    "        if(len(df) == 1):\n",
    "            cnt+=1\n",
    "        n_row = findMaxOccur(id,df)\n",
    "        if n_row:\n",
    "            mergedDf = mergedDf.append(n_row,ignore_index=True)\n",
    "    print('single comments ',cnt)\n",
    "    return mergedDf[['comment','annotation']]\n"
   ]
  },
  {
   "cell_type": "code",
   "execution_count": 23,
   "metadata": {},
   "outputs": [
    {
     "name": "stdout",
     "output_type": "stream",
     "text": [
      "single comments  8120\n"
     ]
    }
   ],
   "source": [
    "df = mergeDuplicates(df)"
   ]
  },
  {
   "cell_type": "code",
   "execution_count": 24,
   "metadata": {},
   "outputs": [],
   "source": [
    "df['annotation'] = df['annotation'].apply(lambda sentiment: 1 if sentiment=='positive' else 0 )"
   ]
  },
  {
   "cell_type": "code",
   "execution_count": 25,
   "metadata": {
    "scrolled": false
   },
   "outputs": [
    {
     "name": "stdout",
     "output_type": "stream",
     "text": [
      "8511\n",
      "positive 3903\n",
      "negative 4608\n"
     ]
    }
   ],
   "source": [
    "print(len(df))\n",
    "print(\"positive\",len(df[df['annotation']==1]))\n",
    "print(\"negative\",len(df[df['annotation']==0]))"
   ]
  },
  {
   "cell_type": "code",
   "execution_count": 26,
   "metadata": {},
   "outputs": [],
   "source": [
    "def createTrainTest(df,splitRatio):\n",
    "    df = df.sample(frac=1).sample(frac=1)\n",
    "    idx = int(splitRatio*len(df))\n",
    "    df2 = pd.read_csv('manual')\n",
    "    df2['annotation'] = df2['annotation'].apply(lambda sentiment: 1 if sentiment=='positive' else 0 )\n",
    "    upperHalf = df[0:idx].append(df2).sample(frac=1)\n",
    "    lowerHalf = df[idx:]\n",
    "    X_train = upperHalf['comment']\n",
    "    X_test = lowerHalf['comment']\n",
    "    y_train = upperHalf['annotation']\n",
    "    y_test = lowerHalf['annotation']\n",
    "    \n",
    "    \n",
    "    return np.array(X_train),np.array(X_test),np.array(y_train),np.array(y_test)\n",
    "    \n",
    "    \n",
    "    "
   ]
  },
  {
   "cell_type": "code",
   "execution_count": 27,
   "metadata": {},
   "outputs": [],
   "source": [
    "splitRatio = .9\n",
    "X_train,X_test,y_train,y_test = createTrainTest(df,splitRatio)\n",
    "X_test_cpy = X_test"
   ]
  },
  {
   "cell_type": "code",
   "execution_count": 28,
   "metadata": {},
   "outputs": [],
   "source": [
    "def padZeroRow(wordModel,comment,maxLen,vectorLen):\n",
    "    row = []\n",
    "    commentList = comment.split() #split into words\n",
    "    minIdx = min(len(commentList),maxLen)\n",
    "    for i in range(0,minIdx):\n",
    "        if commentList[i] in wordModel:\n",
    "            row.append(wordModel[commentList[i]])\n",
    "        else:\n",
    "            row.append(np.zeros(vectorLen))\n",
    "        \n",
    "    for i in range(minIdx,maxLen):\n",
    "        row.append(np.zeros(vectorLen))\n",
    "    return row\n",
    "    \n",
    "    \n",
    "    \n",
    "\n",
    "def padZeros(wordModel,X,maxLen,vectorLen):\n",
    "    \n",
    "    newX = []\n",
    "    for comment in X:\n",
    "        row = padZeroRow(wordModel,comment,maxLen,vectorLen)\n",
    "        newX.append(row)\n",
    "\n",
    "        \n",
    "    return np.array(newX)\n",
    "\n",
    "    \n",
    "    \n",
    "    \n",
    "    \n",
    "    "
   ]
  },
  {
   "cell_type": "code",
   "execution_count": 29,
   "metadata": {
    "scrolled": false
   },
   "outputs": [],
   "source": [
    "stepSize = 15\n",
    "X_train = padZeros(wordModel,X_train,stepSize,vectorLen)\n",
    "X_test =  padZeros(wordModel,X_test,stepSize,vectorLen)"
   ]
  },
  {
   "cell_type": "code",
   "execution_count": 30,
   "metadata": {},
   "outputs": [
    {
     "name": "stderr",
     "output_type": "stream",
     "text": [
      "Using TensorFlow backend.\n"
     ]
    }
   ],
   "source": [
    "from keras.models import Sequential\n",
    "from keras.layers import Dense\n",
    "from keras.layers import LSTM\n",
    "from keras.layers import GRU\n",
    "from keras.preprocessing import sequence\n",
    "from keras.callbacks import EarlyStopping\n",
    "from keras.layers import Dropout\n",
    "from keras.regularizers import l2, activity_l2"
   ]
  },
  {
   "cell_type": "code",
   "execution_count": 31,
   "metadata": {
    "collapsed": true
   },
   "outputs": [],
   "source": [
    "model = Sequential()"
   ]
  },
  {
   "cell_type": "code",
   "execution_count": 32,
   "metadata": {},
   "outputs": [
    {
     "name": "stdout",
     "output_type": "stream",
     "text": [
      "____________________________________________________________________________________________________\n",
      "Layer (type)                     Output Shape          Param #     Connected to                     \n",
      "====================================================================================================\n",
      "lstm_1 (LSTM)                    (None, 15, 100)       80400       lstm_input_1[0][0]               \n",
      "____________________________________________________________________________________________________\n",
      "lstm_2 (LSTM)                    (None, 50)            30200       lstm_1[0][0]                     \n",
      "____________________________________________________________________________________________________\n",
      "dropout_1 (Dropout)              (None, 50)            0           lstm_2[0][0]                     \n",
      "____________________________________________________________________________________________________\n",
      "dense_1 (Dense)                  (None, 1)             51          dropout_1[0][0]                  \n",
      "====================================================================================================\n",
      "Total params: 110651\n",
      "____________________________________________________________________________________________________\n",
      "None\n"
     ]
    }
   ],
   "source": [
    "model.add(LSTM(100,input_shape =(stepSize,vectorLen),return_sequences=True))\n",
    "model.add(LSTM(50))\n",
    "model.add(Dropout(.4))\n",
    "model.add(Dense(1, activation='sigmoid'))\n",
    "model.compile(loss='binary_crossentropy', optimizer='adam', metrics=['accuracy'])\n",
    "print(model.summary())\n"
   ]
  },
  {
   "cell_type": "code",
   "execution_count": 33,
   "metadata": {},
   "outputs": [],
   "source": [
    "batch_size=64\n",
    "epochs=10\n",
    "verbose=True\n",
    "validation_split=.1\n",
    "patience = 1\n",
    "early_stopping = EarlyStopping(monitor='val_loss', patience=patience, verbose=verbose)"
   ]
  },
  {
   "cell_type": "code",
   "execution_count": 34,
   "metadata": {
    "scrolled": true
   },
   "outputs": [
    {
     "name": "stdout",
     "output_type": "stream",
     "text": [
      "Train on 6964 samples, validate on 774 samples\n",
      "Epoch 1/10\n",
      "6964/6964 [==============================] - 5s - loss: 0.5830 - acc: 0.6973 - val_loss: 0.5449 - val_acc: 0.7067\n",
      "Epoch 2/10\n",
      "6964/6964 [==============================] - 4s - loss: 0.5019 - acc: 0.7606 - val_loss: 0.5316 - val_acc: 0.7351\n",
      "Epoch 3/10\n",
      "6964/6964 [==============================] - 4s - loss: 0.4528 - acc: 0.7935 - val_loss: 0.5267 - val_acc: 0.7403\n",
      "Epoch 4/10\n",
      "6964/6964 [==============================] - 4s - loss: 0.3914 - acc: 0.8267 - val_loss: 0.5594 - val_acc: 0.7248\n",
      "Epoch 5/10\n",
      "6912/6964 [============================>.] - ETA: 0s - loss: 0.3254 - acc: 0.8627Epoch 00004: early stopping\n",
      "6964/6964 [==============================] - 4s - loss: 0.3266 - acc: 0.8621 - val_loss: 0.6200 - val_acc: 0.7248\n"
     ]
    },
    {
     "data": {
      "text/plain": [
       "<keras.callbacks.History at 0x7f50933e22e8>"
      ]
     },
     "execution_count": 34,
     "metadata": {},
     "output_type": "execute_result"
    }
   ],
   "source": [
    "model.fit(X_train, \n",
    "            y_train, \n",
    "            batch_size=batch_size, \n",
    "            nb_epoch=epochs,\n",
    "            verbose=verbose,\n",
    "            validation_split=validation_split, \n",
    "            callbacks=[early_stopping])\n"
   ]
  },
  {
   "cell_type": "code",
   "execution_count": 35,
   "metadata": {},
   "outputs": [
    {
     "name": "stdout",
     "output_type": "stream",
     "text": [
      "Accuracy: 74.06%\n"
     ]
    }
   ],
   "source": [
    "scores = model.evaluate(X_test, y_test, verbose=0)\n",
    "print(\"Accuracy: %.2f%%\" % (scores[1]*100))"
   ]
  },
  {
   "cell_type": "code",
   "execution_count": 36,
   "metadata": {
    "collapsed": true
   },
   "outputs": [],
   "source": [
    "def pltPartByPart(s):\n",
    "    \n",
    "    \n",
    "    l = s.split()\n",
    "    x_ticks = l\n",
    "    x = np.array(range(len(l)))\n",
    "    y = []\n",
    "    for i in range(1,len(l)+1):\n",
    "        curStr = [' '.join(l[:i])]\n",
    "        curStr = padZeros(wordModel,curStr,stepSize,vectorLen)\n",
    "        y.append(model.predict(curStr)[0][0])\n",
    "      \n",
    "    print(x_ticks)\n",
    "    print(y)\n",
    "    print(x)\n",
    "        \n",
    "    plt.xticks(x, x_ticks)\n",
    "    plt.plot(x, y)\n",
    "    plt.show()\n",
    "    return\n",
    "        "
   ]
  },
  {
   "cell_type": "code",
   "execution_count": 37,
   "metadata": {},
   "outputs": [],
   "source": [
    "import matplotlib.pyplot as plt\n",
    "import matplotlib\n",
    "matplotlib.rc('font', family='Nikosh')\n",
    "import numpy as np\n",
    "%matplotlib inline"
   ]
  },
  {
   "cell_type": "code",
   "execution_count": 40,
   "metadata": {},
   "outputs": [
    {
     "name": "stdout",
     "output_type": "stream",
     "text": [
      "['শুরুতে', 'একটু', 'ভাল', 'লাগলেও', 'পরে', 'বিরক্তি', 'ধরে', 'গেছে']\n",
      "[0.99196339, 0.98933488, 0.99640298, 0.99626678, 0.9933514, 0.85456461, 0.99557847, 0.9248423]\n",
      "[0 1 2 3 4 5 6 7]\n"
     ]
    },
    {
     "data": {
      "image/png": "[encoded data removed]",
      "text/plain": [
       "<matplotlib.figure.Figure at 0x7f5092f56c88>"
      ]
     },
     "metadata": {},
     "output_type": "display_data"
    }
   ],
   "source": [
    "pltPartByPart('শুরুতে একটু ভাল লাগলেও পরে বিরক্তি ধরে গেছে')"
   ]
  },
  {
   "cell_type": "code",
   "execution_count": 39,
   "metadata": {},
   "outputs": [
    {
     "data": {
      "image/png": "[encoded data removed]",
      "text/plain": [
       "<matplotlib.figure.Figure at 0x7f5092e08c88>"
      ]
     },
     "metadata": {},
     "output_type": "display_data"
    }
   ],
   "source": [
    "x_ticks = ['ভেবেছিলাম', 'পরে', 'হয়ত', 'ভাল', 'হবে', 'কিন্তু', 'পরে', 'আর', 'জঘন্য', 'হয়েছে']\n",
    "x = np.array(range(10))\n",
    "y = [0.78421855, 0.54401094, 0.29537833, 0.96193033, 0.97741461, 0.78365964, 0.62142026, 0.094572492, 0.068140224, 0.10831796]\n",
    "plt.xticks(x, x_ticks)\n",
    "plt.plot(x, y)\n",
    "plt.show()"
   ]
  },
  {
   "cell_type": "code",
   "execution_count": null,
   "metadata": {},
   "outputs": [],
   "source": [
    "x_ticks = ['শুরুতে', 'একটু', 'ভাল', 'লাগলেও', 'পরে', 'বিরক্তি', 'ধরে', 'গেছে']\n",
    "x = np.array(range(8))\n",
    "y = [0.75012034, 0.41449672, 0.95646137, 0.91476071, 0.34031066, 0.22273718, 0.45985109, 0.32197201]\n",
    "plt.xticks(x, x_ticks)\n",
    "plt.plot(x, y)\n",
    "plt.show()"
   ]
  },
  {
   "cell_type": "code",
   "execution_count": null,
   "metadata": {},
   "outputs": [],
   "source": [
    "x_ticks = ['বইটা', 'প্রথমদিকে', 'অনেক', 'বোরিং', 'ছিল', 'কিন্তু', 'পরের', 'দিকে', 'খুব', 'চমৎকার', 'লেগেছে']\n",
    "x = np.array(range(11))\n",
    "y = [0.90483016, 0.85280257, 0.83823037, 0.67966586, 0.28847075, 0.26739812, 0.38455793, 0.28380302, 0.47014257, 0.89239806, 0.92168832]\n",
    "plt.xticks(x, x_ticks)\n",
    "plt.plot(x, y)\n",
    "plt.show()"
   ]
  },
  {
   "cell_type": "code",
   "execution_count": null,
   "metadata": {},
   "outputs": [],
   "source": [
    "my_test = padZeros(wordModel,my_test,stepSize,vectorLen)"
   ]
  },
  {
   "cell_type": "code",
   "execution_count": null,
   "metadata": {},
   "outputs": [],
   "source": [
    "model.predict(my_test)"
   ]
  },
  {
   "cell_type": "code",
   "execution_count": null,
   "metadata": {},
   "outputs": [],
   "source": [
    "import matplotlib.font_manager\n",
    "matplotlib.font_manager.findSystemFonts(fontpaths=None, fontext='ttf')"
   ]
  },
  {
   "cell_type": "markdown",
   "metadata": {
    "collapsed": true
   },
   "source": [
    "from keras.layers import Input, Dense,Lambda,Convolution1D,MaxPooling1D,TimeDistributed\n",
    "from keras.models import Model\n",
    "from keras.layers import LSTM, Lambda, merge, Masking\n",
    "import tensorflow as tf\n",
    "\n",
    "\n",
    "docs = []\n",
    "sentences = []\n",
    "sentiments = []\n",
    "for index, row in df.iterrows():\n",
    "    sentences = re.split(r'(?<!\\w\\.\\w.)(?<![A-Z][a-z]\\.)(?<=\\.|\\?)\\s', row['comment'])\n",
    "    docs.append(sentences)\n",
    "    sentiments.append(row['annotation'])\n",
    "\n",
    "txt = ''\n",
    "for doc in docs:\n",
    "    for s in doc:\n",
    "        txt += s\n",
    "chars = set(txt)\n",
    "print('total chars:', len(chars))\n",
    "char_indices = dict((c, i) for i, c in enumerate(chars))\n",
    "indices_char = dict((i, c) for i, c in enumerate(chars))\n",
    "\n",
    "\n",
    "maxlen = 100\n",
    "max_sentences = 15\n",
    "\n",
    "X = np.ones((len(docs), max_sentences, maxlen), dtype=np.int64) * -1\n",
    "y = np.array(sentiments)\n",
    "\n",
    "for i, doc in enumerate(docs):\n",
    "    for j, sentence in enumerate(doc):\n",
    "        if j < max_sentences:\n",
    "            for t, char in enumerate(sentence[-maxlen:]):\n",
    "                X[i, j, (maxlen-1-t)] = char_indices[char]\n",
    "\n",
    "def binarize_outshape(in_shape):\n",
    "    return in_shape[0], in_shape[1], 71\n",
    "\n",
    "def binarize(x, sz=71):\n",
    "    return tf.to_float(tf.one_hot(x, sz, on_value=1, off_value=0, axis=-1))\n",
    "\n",
    "filter_length = [5, 3, 3]\n",
    "nb_filter = [196, 196, 256]\n",
    "pool_length = 2\n",
    "\n",
    "in_sentence = Input(shape=(maxlen,), dtype='int64')\n",
    "# binarize function creates a onehot encoding of each character index\n",
    "embedded = Lambda(binarize, output_shape=binarize_outshape)(in_sentence)\n",
    "\n",
    "for i in range(len(nb_filter)):\n",
    "    embedded = Convolution1D(nb_filter=nb_filter[i],\n",
    "                            filter_length=filter_length[i],\n",
    "                            border_mode='valid',\n",
    "                            activation='relu',\n",
    "                            init='glorot_normal',\n",
    "                            subsample_length=1)(embedded)\n",
    "\n",
    "    embedded = Dropout(0.1)(embedded)\n",
    "    embedded = MaxPooling1D(pool_length=pool_length)(embedded)\n",
    "\n",
    "forward_sent = LSTM(128, return_sequences=False, dropout_W=0.2, dropout_U=0.2, consume_less='gpu')(embedded)\n",
    "backward_sent = LSTM(128, return_sequences=False, dropout_W=0.2, dropout_U=0.2, consume_less='gpu', go_backwards=True)(embedded)\n",
    "\n",
    "sent_encode = merge([forward_sent, backward_sent], mode='concat', concat_axis=-1)\n",
    "sent_encode = Dropout(0.3)(sent_encode)\n",
    "\n",
    "encoder = Model(input=in_sentence, output=sent_encode)\n",
    "\n",
    "forward_sent = LSTM(128, return_sequences=False, dropout_W=0.2, dropout_U=0.2, consume_less='gpu')(embedded)\n",
    "backward_sent = LSTM(128, return_sequences=False, dropout_W=0.2, dropout_U=0.2, consume_less='gpu', go_backwards=True)(embedded)\n",
    "\n",
    "sequence = Input(shape=(max_sentences, maxlen), dtype='int64')\n",
    "encoded = TimeDistributed(encoder)(sequence)\n",
    "forwards = LSTM(80, return_sequences=False, dropout_W=0.2, dropout_U=0.2, consume_less='gpu')(encoded)\n",
    "backwards = LSTM(80, return_sequences=False, dropout_W=0.2, dropout_U=0.2, consume_less='gpu', go_backwards=True)(encoded)\n",
    "\n",
    "merged = merge([forwards, backwards], mode='concat', concat_axis=-1)\n",
    "output = Dropout(0.3)(merged)\n",
    "output = Dense(128, activation='relu')(output)\n",
    "output = Dropout(0.3)(output)\n",
    "output = Dense(1, activation='sigmoid')(output)\n",
    "\n",
    "model = Model(input=sequence, output=output)\n",
    "\n",
    "ids = np.arange(len(X))\n",
    "np.random.shuffle(ids)\n",
    "idx = int(splitRatio*len(df))\n",
    "# shuffle\n",
    "X = X[ids]\n",
    "y = y[ids]\n",
    "\n",
    "X_train = X[:idx]\n",
    "X_test = X[idx:]\n",
    "\n",
    "y_train = y[:idx]\n",
    "y_test = y[idx:]\n"
   ]
  },
  {
   "cell_type": "markdown",
   "metadata": {},
   "source": [
    "model.compile(loss='binary_crossentropy', optimizer='adam', metrics=['accuracy'])\n",
    "\n",
    "model.fit(X_train, \n",
    "            y_train, \n",
    "            batch_size=batch_size, \n",
    "            nb_epoch=epochs,\n",
    "            verbose=verbose,\n",
    "            validation_split=validation_split, \n",
    "            callbacks=[early_stopping])\n"
   ]
  },
  {
   "cell_type": "code",
   "execution_count": null,
   "metadata": {},
   "outputs": [],
   "source": [
    "path = '/usr/share/fonts/Siyamrupali.ttf'\n",
    "prop = matplotlib.font_manager.FontProperties(fname=path)\n",
    "matplotlib.rcParams['font.family'] = prop.get_name()\n",
    "pltPartByPart('ভেবেছিলাম পরে হয়ত ভাল হবে কিন্তু পরে আর জঘন্য হয়েছে')"
   ]
  },
  {
   "cell_type": "code",
   "execution_count": null,
   "metadata": {},
   "outputs": [],
   "source": [
    "import matplotlib.font_manager\n",
    "[f.name for f in matplotlib.font_manager.fontManager.ttflist]\n"
   ]
  },
  {
   "cell_type": "code",
   "execution_count": null,
   "metadata": {
    "collapsed": true
   },
   "outputs": [],
   "source": []
  }
 ],
 "metadata": {
  "kernelspec": {
   "display_name": "Python 2",
   "language": "python",
   "name": "python2"
  },
  "language_info": {
   "codemirror_mode": {
    "name": "ipython",
    "version": 2
   },
   "file_extension": ".py",
   "mimetype": "text/x-python",
   "name": "python",
   "nbconvert_exporter": "python",
   "pygments_lexer": "ipython2",
   "version": "2.7.12"
  }
 },
 "nbformat": 4,
 "nbformat_minor": 1
}
